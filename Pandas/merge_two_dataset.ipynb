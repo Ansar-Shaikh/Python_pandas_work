{
 "cells": [
  {
   "cell_type": "code",
   "execution_count": 1,
   "id": "b704ff0c-c8e0-4213-994a-6626fdcbfe2c",
   "metadata": {},
   "outputs": [],
   "source": [
    "import pandas as pd \n",
    "import numpy as np\n"
   ]
  },
  {
   "cell_type": "code",
   "execution_count": 4,
   "id": "ad9d936e-9987-423b-9b0c-174fc991300f",
   "metadata": {},
   "outputs": [
    {
     "name": "stdout",
     "output_type": "stream",
     "text": [
      "     name  id  age\n",
      "0   ansar   1   20\n",
      "1    ashu   2   22\n",
      "2   suraj   3   30\n",
      "3  vishal   4   12\n",
      "\n",
      "   id  salary\n",
      "0   1   10000\n",
      "1   2   20000\n",
      "2   3   30000\n",
      "3   4   40000\n"
     ]
    }
   ],
   "source": [
    "data1={\"name\":[\"ansar\",\"ashu\",\"suraj\",\"vishal\"],\n",
    "    \"id\":[1,2,3,4],\"age\":[20,22,30,12]}\n",
    "data2={\"id\":[1,2,3,4],\"salary\":[10000,20000,30000,40000]}\n",
    "df1=pd.DataFrame(data1)\n",
    "df2=pd.DataFrame(data2)\n",
    "print(df1)\n",
    "print()\n",
    "print(df2)"
   ]
  },
  {
   "cell_type": "code",
   "execution_count": 5,
   "id": "5faff38a-12a3-4f28-9d90-ff4c5e614e8b",
   "metadata": {},
   "outputs": [
    {
     "name": "stdout",
     "output_type": "stream",
     "text": [
      "     name  id  age  salary\n",
      "0   ansar   1   20   10000\n",
      "1    ashu   2   22   20000\n",
      "2   suraj   3   30   30000\n",
      "3  vishal   4   12   40000\n"
     ]
    }
   ],
   "source": [
    "#two combine it use merge function \n",
    "merge=pd.merge(left=df1,right=df2,on=\"id\",how=\"inner\")  # inner join by default happen on the basis of id having same col name and common in both \n",
    "print(merge)"
   ]
  },
  {
   "cell_type": "code",
   "execution_count": 7,
   "id": "e6eb42d7-9aae-40a1-8f59-2d674383371d",
   "metadata": {},
   "outputs": [],
   "source": [
    "data1={\"name\":[\"ansar\",\"ashu\",\"suraj\",\"vishal\"],\n",
    "    \"id\":[1,6,3,9],\"age\":[20,22,30,12]}\n",
    "data2={\"id\":[1,2,3,7],\"salary\":[10000,20000,30000,40000]}\n",
    "df1=pd.DataFrame(data1)\n",
    "df2=pd.DataFrame(data2)"
   ]
  },
  {
   "cell_type": "code",
   "execution_count": 8,
   "id": "377d89ca-6ca6-4351-bdf2-60e2003b125d",
   "metadata": {},
   "outputs": [
    {
     "name": "stdout",
     "output_type": "stream",
     "text": [
      "     name  id  age   salary\n",
      "0   ansar   1   20  10000.0\n",
      "1    ashu   6   22      NaN\n",
      "2   suraj   3   30  30000.0\n",
      "3  vishal   9   12      NaN\n"
     ]
    }
   ],
   "source": [
    "merge2=pd.merge(left=df1,right=df2,on=\"id\",how=\"left\") # left side dataset because of how=\"left\" on the basis of id having common cols in both\n",
    "print(merge2)                                                "
   ]
  },
  {
   "cell_type": "code",
   "execution_count": 10,
   "id": "e2f255ba-235a-4af7-bc90-6cd222a12020",
   "metadata": {},
   "outputs": [
    {
     "name": "stdout",
     "output_type": "stream",
     "text": [
      "    name  id   age  salary\n",
      "0  ansar   1  20.0   10000\n",
      "1    NaN   2   NaN   20000\n",
      "2  suraj   3  30.0   30000\n",
      "3    NaN   7   NaN   40000\n"
     ]
    }
   ],
   "source": [
    "data1={\"name\":[\"ansar\",\"ashu\",\"suraj\",\"vishal\"],\n",
    "        \"id\":[1,6,3,9],\"age\":[20,22,30,12]}\n",
    "data2={\"id\":[1,2,3,7],\"salary\":[10000,20000,30000,40000]}\n",
    "df1=pd.DataFrame(data1)\n",
    "df2=pd.DataFrame(data2)\n",
    "merge3=pd.merge(df1,df2, on=\"id\",how=\"right\")\n",
    "print(merge3)"
   ]
  },
  {
   "cell_type": "code",
   "execution_count": null,
   "id": "efd36e77-7045-43e0-8de3-40edb526b2a3",
   "metadata": {},
   "outputs": [],
   "source": []
  },
  {
   "cell_type": "code",
   "execution_count": null,
   "id": "261a7c87-02cd-48de-9cd5-4da6e53a0edd",
   "metadata": {},
   "outputs": [],
   "source": []
  }
 ],
 "metadata": {
  "kernelspec": {
   "display_name": "Python 3 (ipykernel)",
   "language": "python",
   "name": "python3"
  },
  "language_info": {
   "codemirror_mode": {
    "name": "ipython",
    "version": 3
   },
   "file_extension": ".py",
   "mimetype": "text/x-python",
   "name": "python",
   "nbconvert_exporter": "python",
   "pygments_lexer": "ipython3",
   "version": "3.13.0"
  }
 },
 "nbformat": 4,
 "nbformat_minor": 5
}
