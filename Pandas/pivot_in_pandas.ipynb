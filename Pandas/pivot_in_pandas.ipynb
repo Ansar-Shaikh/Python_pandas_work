{
 "cells": [
  {
   "cell_type": "code",
   "execution_count": 4,
   "id": "ae3a39df-93eb-481f-8a47-4e41e7eb7916",
   "metadata": {},
   "outputs": [
    {
     "name": "stdout",
     "output_type": "stream",
     "text": [
      "  key   name  age  saraly\n",
      "0  k1  ansar   20    1000\n",
      "1  k2   ashu   22    2000\n",
      "2  k3  suraj   21    3000\n"
     ]
    }
   ],
   "source": [
    "import pandas as pd\n",
    "data1={\"key\":[\"k1\",\"k2\",\"k3\"],\"name\":[\"ansar\",\"ashu\",\"suraj\"],\"age\":[20,22,21],\"saraly\":[1000,2000,3000]}\n",
    "df=pd.DataFrame(data1)\n",
    "print(df)      "
   ]
  },
  {
   "cell_type": "code",
   "execution_count": 11,
   "id": "fd5263bd-2d88-4f82-8256-914ce83da222",
   "metadata": {},
   "outputs": [
    {
     "name": "stdout",
     "output_type": "stream",
     "text": [
      "      name              saraly            \n",
      "age     20     21    22     20    21    22\n",
      "key                                       \n",
      "k1   ansar    NaN   NaN   1000   NaN   NaN\n",
      "k2     NaN    NaN  ashu    NaN   NaN  2000\n",
      "k3     NaN  suraj   NaN    NaN  3000   NaN\n"
     ]
    }
   ],
   "source": [
    "pivot=df.pivot(index=\"key\",columns=\"age\",values=[\"name\",\"saraly\"])\n",
    "print(pivot)"
   ]
  },
  {
   "cell_type": "code",
   "execution_count": null,
   "id": "74bc1080-060a-4854-923e-f7b104c73d0c",
   "metadata": {},
   "outputs": [],
   "source": []
  }
 ],
 "metadata": {
  "kernelspec": {
   "display_name": "Python 3 (ipykernel)",
   "language": "python",
   "name": "python3"
  },
  "language_info": {
   "codemirror_mode": {
    "name": "ipython",
    "version": 3
   },
   "file_extension": ".py",
   "mimetype": "text/x-python",
   "name": "python",
   "nbconvert_exporter": "python",
   "pygments_lexer": "ipython3",
   "version": "3.13.0"
  }
 },
 "nbformat": 4,
 "nbformat_minor": 5
}
